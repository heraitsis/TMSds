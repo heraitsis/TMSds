{
 "cells": [
  {
   "cell_type": "code",
   "execution_count": 34,
   "id": "66e2588c",
   "metadata": {},
   "outputs": [
    {
     "name": "stdout",
     "output_type": "stream",
     "text": [
      "7\n",
      "1\n"
     ]
    }
   ],
   "source": [
    "# 1. В этом небольшом задании вам дается строка чисел, \n",
    "# разделенных пробелами, и вы должны вернуть наибольшее и наименьшее число.\n",
    "\n",
    "numbers = \"1 2 3 4 5 6 7\"\n",
    "lst = numbers.replace(\" \", \"\")\n",
    "len(lst)\n",
    "print(max(lst))\n",
    "print(min(lst))\n"
   ]
  },
  {
   "cell_type": "code",
   "execution_count": null,
   "id": "706c6a9b",
   "metadata": {},
   "outputs": [],
   "source": [
    "# 2. Банкоматы допускают использование 4- или 6-значных PIN-кодов, \n",
    "# а PIN-коды не могут содержать ничего, кроме ровно 4 или ровно 6 цифр. \n",
    "# Если функции передана действительная строка PIN-кода, return true, иначе return false.\n",
    "\n",
    "pin = (input(\"Введите PIN-код:\"))\n",
    "try:\n",
    "    if int(pin):\n",
    "        if len(pin) == 4 or len(pin) == 6:\n",
    "            print(\"Принято\")\n",
    "        else:\n",
    "            print(\"Ошибка\")\n",
    "except:\n",
    "    print(\"Отказано\")\n",
    "\n"
   ]
  },
  {
   "cell_type": "code",
   "execution_count": null,
   "id": "ffd509c4",
   "metadata": {},
   "outputs": [],
   "source": [
    "# 3. Учитывая целое число, определите, является ли оно квадратным : \n",
    "# В математике квадратное число или идеальный квадрат — это целое число, \n",
    "# которое является квадратом целого числа; другими словами, э\n",
    "# то произведение некоторого целого числа само на себя. \n",
    "# На вход список, на выходе список чисел.\n",
    "\n",
    "def number(num: int) -> bool:\n",
    "    if num ** 0.5 == int(num ** 0.5):\n",
    "        return True\n",
    "    else:\n",
    "        return False\n",
    "\n",
    "\n",
    "list(filter(number, [2, 4, 6, 3, 7, 9]))"
   ]
  },
  {
   "cell_type": "code",
   "execution_count": null,
   "id": "8e399c40",
   "metadata": {},
   "outputs": [],
   "source": [
    "# 4. Реализуйте функцию unique_in_order, \n",
    "# которая принимает в качестве аргумента последовательность и возвращает список элементов\n",
    "# без каких-либо элементов с одинаковым значением рядом друг с другом и сохраняет исходный порядок элементов.\n",
    "\n",
    "def unique_in_order(lst: str) ->list:\n",
    "    return [lst[i] for i in range(len(lst)) if i == 0 or lst[i] != lst[i-1]]\n",
    "\n",
    "print(unique_in_order(\"AAAAABBBBDDDDGGGGKKK\"))\n"
   ]
  },
  {
   "cell_type": "code",
   "execution_count": null,
   "id": "ab5e731e",
   "metadata": {},
   "outputs": [],
   "source": []
  }
 ],
 "metadata": {
  "kernelspec": {
   "display_name": "Python 3 (ipykernel)",
   "language": "python",
   "name": "python3"
  },
  "language_info": {
   "codemirror_mode": {
    "name": "ipython",
    "version": 3
   },
   "file_extension": ".py",
   "mimetype": "text/x-python",
   "name": "python",
   "nbconvert_exporter": "python",
   "pygments_lexer": "ipython3",
   "version": "3.11.5"
  }
 },
 "nbformat": 4,
 "nbformat_minor": 5
}
