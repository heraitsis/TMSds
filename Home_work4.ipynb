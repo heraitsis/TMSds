{
 "cells": [
  {
   "cell_type": "code",
   "execution_count": 105,
   "id": "c0af46bb",
   "metadata": {},
   "outputs": [
    {
     "name": "stdout",
     "output_type": "stream",
     "text": [
      "В этом математическом выражение у = 2.845698925800278\n"
     ]
    }
   ],
   "source": [
    "\n",
    "import math \n",
    "\n",
    "def add(x):\n",
    "    y = (math.cos(e**x) + math.log(1+x)**2 + math.sqrt(math.exp(math.cos(x)) + math.sin(pi*x)**2) + math.sqrt(1/x) + math.cos(x**2))\n",
    "    print(f\"В этом математическом выражение у = {y}\")\n",
    "    \n",
    "x = 1.79\n",
    "add(x)"
   ]
  },
  {
   "cell_type": "code",
   "execution_count": 4,
   "id": "5292d79e",
   "metadata": {},
   "outputs": [
    {
     "name": "stdout",
     "output_type": "stream",
     "text": [
      "Мимо!\n"
     ]
    }
   ],
   "source": [
    "# Напишите функцию search_substr(subst, st)\n",
    "# которая принимает 2 строки и определяет, имеется ли подстрока subst в строке st.\n",
    "# В случае нахождения подстроки, возвращается фраза «Есть контакт!», а иначе «Мимо!». \n",
    "# Должно быть найдено совпадение независимо от регистра обеих строк.\n",
    "\n",
    "\n",
    "def search_substr(substr, st):\n",
    "    \n",
    "    if substr.lower() in st.lower():\n",
    "        return \"Есть контакт\"\n",
    "    else:          \n",
    "        return \"Мимо!\"\n",
    "\n",
    "substr = \"Data science\"\n",
    "st = \"Наука о данных\"\n",
    "\n",
    "print(search_substr(substr, st))\n"
   ]
  },
  {
   "cell_type": "code",
   "execution_count": 3,
   "id": "846a64e5",
   "metadata": {},
   "outputs": [
    {
     "name": "stdout",
     "output_type": "stream",
     "text": [
      "[('о', 5), ('e', 3), ('s', 2)]\n"
     ]
    }
   ],
   "source": [
    "# На основании строки определить 3 наиболее часто встречаемых символа в ней. \n",
    "# Пробелы нужно игнорировать (не учитывать при подсчете). \n",
    "# Для простоты подсчета количества вхождений символов удобно использовать Counter из модуля collections.\n",
    "\n",
    "from collections import Counter\n",
    "\n",
    "\n",
    "str = \"Mersedes - автомобиль для комфортной езды.\"\n",
    "st = str.replace(\" \",\"\")\n",
    "s = st\n",
    "s = Counter(st)\n",
    "print(s.most_common(3))\n"
   ]
  }
 ],
 "metadata": {
  "kernelspec": {
   "display_name": "Python 3 (ipykernel)",
   "language": "python",
   "name": "python3"
  },
  "language_info": {
   "codemirror_mode": {
    "name": "ipython",
    "version": 3
   },
   "file_extension": ".py",
   "mimetype": "text/x-python",
   "name": "python",
   "nbconvert_exporter": "python",
   "pygments_lexer": "ipython3",
   "version": "3.11.5"
  }
 },
 "nbformat": 4,
 "nbformat_minor": 5
}
