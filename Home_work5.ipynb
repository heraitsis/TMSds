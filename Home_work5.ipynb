{
 "cells": [
  {
   "cell_type": "code",
   "execution_count": 43,
   "id": "7bb6cf05",
   "metadata": {},
   "outputs": [
    {
     "data": {
      "text/plain": [
       "['Robin', 'Sing']"
      ]
     },
     "execution_count": 43,
     "metadata": {},
     "output_type": "execute_result"
    }
   ],
   "source": [
    "# 1. Напишите функцию для разделения строки и преобразования ее в список слов. \n",
    "# Пример \"Robin Singh\" ==> [\"Robin\", \"Singh\"]\n",
    "\n",
    "def user(name: str) -> list:\n",
    "    return name.split()\n",
    "\n",
    "user(\"Robin Sing\")"
   ]
  },
  {
   "cell_type": "code",
   "execution_count": 15,
   "id": "33d2428f",
   "metadata": {},
   "outputs": [
    {
     "data": {
      "text/plain": [
       "1"
      ]
     },
     "execution_count": 15,
     "metadata": {},
     "output_type": "execute_result"
    }
   ],
   "source": [
    "# 2.Натан любит кататься на велосипеде. \n",
    "# Поскольку Натан знает, как важно избегать обезвоживания, он выпивает 0,5 литра воды за час езды на велосипеде. \n",
    "# Вам дано время в часах, и вам нужно вернуть количество литров, которое выпьет Натан, \n",
    "# округленное до наименьшего значения. Пример time = 3 ----> litres = 1\n",
    "\n",
    "def litrs(time: int) ->int:\n",
    "    litrs = time * 0.5\n",
    "    return int(litrs)\n",
    "litrs(3)"
   ]
  },
  {
   "cell_type": "code",
   "execution_count": 28,
   "id": "9b9bf7ed",
   "metadata": {},
   "outputs": [
    {
     "data": {
      "text/plain": [
       "[5, 4, 3, 2, 1]"
      ]
     },
     "execution_count": 28,
     "metadata": {},
     "output_type": "execute_result"
    }
   ],
   "source": [
    "# Создайте функцию, которая возвращает список целых чисел от n до 1, где n>0. Пример: n=5-->[5,4,3,2,1]\n",
    "\n",
    "def user (n) -> list:\n",
    "  return list(range(n, 0, -1))\n",
    "\n",
    "user(5)\n",
    "    \n"
   ]
  },
  {
   "cell_type": "code",
   "execution_count": 37,
   "id": "d6a4499a",
   "metadata": {},
   "outputs": [
    {
     "data": {
      "text/plain": [
       "19"
      ]
     },
     "execution_count": 37,
     "metadata": {},
     "output_type": "execute_result"
    }
   ],
   "source": [
    "# Учитываягод,вернитестолетие,в котором он находится.Пример 1705 --> 18 1900 --> 19 1601 --> 17\n",
    "\n",
    "def centenary(year: list) -> list:\n",
    "    return(1900 // 100)\n",
    "\n",
    "centenary(1900)\n"
   ]
  },
  {
   "cell_type": "code",
   "execution_count": null,
   "id": "c181169a",
   "metadata": {},
   "outputs": [],
   "source": []
  }
 ],
 "metadata": {
  "kernelspec": {
   "display_name": "Python 3 (ipykernel)",
   "language": "python",
   "name": "python3"
  },
  "language_info": {
   "codemirror_mode": {
    "name": "ipython",
    "version": 3
   },
   "file_extension": ".py",
   "mimetype": "text/x-python",
   "name": "python",
   "nbconvert_exporter": "python",
   "pygments_lexer": "ipython3",
   "version": "3.11.5"
  }
 },
 "nbformat": 4,
 "nbformat_minor": 5
}
